{
 "cells": [
  {
   "cell_type": "code",
   "execution_count": 2,
   "metadata": {},
   "outputs": [],
   "source": [
    "import os\n",
    "import threddsclient\n",
    "import urllib.request"
   ]
  },
  {
   "cell_type": "code",
   "execution_count": 4,
   "metadata": {},
   "outputs": [],
   "source": [
    "querry_url = 'https://tds.marine.rutgers.edu/thredds/catalog/roms/doppio/2017_da/his/files/catalog.html'\n",
    "source_url = 'https://tds.marine.rutgers.edu/thredds/fileServer/roms/doppio/2017_da/his/files/'\n",
    "\n",
    "# source_url = 'https://tds.marine.rutgers.edu/thredds/catalog/roms/doppio/2017_da/his/catalog.html'\n",
    "# destination_dir = r'C:\\Users\\laurins\\Documents\\data\\input\\rom'\n",
    "destination_dir = r'/hpcfreenas/hindcast/ROMS/doppio_bay_03'\n",
    "\n",
    "files = []\n",
    "for ds in threddsclient.crawl(querry_url, depth=1):\n",
    "    files.append(ds.name)\n",
    "\n",
    "# traverse_thredds(source_url, destination_dir, 1, True, True)"
   ]
  },
  {
   "cell_type": "code",
   "execution_count": 5,
   "metadata": {},
   "outputs": [
    {
     "data": {
      "text/plain": [
       "['doppio_his_20180101_0000_0001.nc',\n",
       " 'doppio_his_20180102_0000_0001.nc',\n",
       " 'doppio_his_20180103_0000_0001.nc',\n",
       " 'doppio_his_20180104_0000_0001.nc',\n",
       " 'doppio_his_20180105_0000_0001.nc',\n",
       " 'doppio_his_20180106_0000_0001.nc',\n",
       " 'doppio_his_20180107_0000_0001.nc',\n",
       " 'doppio_his_20180108_0000_0001.nc',\n",
       " 'doppio_his_20180109_0000_0001.nc',\n",
       " 'doppio_his_20180110_0000_0001.nc',\n",
       " 'doppio_his_20180111_0000_0001.nc',\n",
       " 'doppio_his_20180112_0000_0001.nc',\n",
       " 'doppio_his_20180113_0000_0001.nc',\n",
       " 'doppio_his_20180114_0000_0001.nc',\n",
       " 'doppio_his_20180115_0000_0001.nc',\n",
       " 'doppio_his_20180116_0000_0001.nc',\n",
       " 'doppio_his_20180117_0000_0001.nc',\n",
       " 'doppio_his_20180118_0000_0001.nc',\n",
       " 'doppio_his_20180119_0000_0001.nc',\n",
       " 'doppio_his_20180120_0000_0001.nc',\n",
       " 'doppio_his_20180121_0000_0001.nc',\n",
       " 'doppio_his_20180122_0000_0001.nc',\n",
       " 'doppio_his_20180123_0000_0001.nc',\n",
       " 'doppio_his_20180124_0000_0001.nc',\n",
       " 'doppio_his_20180125_0000_0001.nc',\n",
       " 'doppio_his_20180126_0000_0001.nc',\n",
       " 'doppio_his_20180127_0000_0001.nc',\n",
       " 'doppio_his_20180128_0000_0001.nc',\n",
       " 'doppio_his_20180129_0000_0001.nc',\n",
       " 'doppio_his_20180130_0000_0001.nc',\n",
       " 'doppio_his_20180131_0000_0001.nc']"
      ]
     },
     "execution_count": 5,
     "metadata": {},
     "output_type": "execute_result"
    }
   ],
   "source": [
    "to_download = [file for file in files if ('0000_0001' in file)*('201801' in file)]\n",
    "to_download"
   ]
  },
  {
   "cell_type": "code",
   "execution_count": 8,
   "metadata": {},
   "outputs": [
    {
     "name": "stdout",
     "output_type": "stream",
     "text": [
      "doppio_his_20180101_0000_0001.nc\n"
     ]
    },
    {
     "ename": "KeyboardInterrupt",
     "evalue": "",
     "output_type": "error",
     "traceback": [
      "\u001b[0;31m---------------------------------------------------------------------------\u001b[0m",
      "\u001b[0;31mKeyboardInterrupt\u001b[0m                         Traceback (most recent call last)",
      "Cell \u001b[0;32mIn[8], line 4\u001b[0m\n\u001b[1;32m      2\u001b[0m \u001b[39mfor\u001b[39;00m file_name \u001b[39min\u001b[39;00m to_download:\n\u001b[1;32m      3\u001b[0m     \u001b[39mprint\u001b[39m(file_name)\n\u001b[0;32m----> 4\u001b[0m     urllib\u001b[39m.\u001b[39;49mrequest\u001b[39m.\u001b[39;49murlretrieve(source_url\u001b[39m+\u001b[39;49mfile_name, os\u001b[39m.\u001b[39;49mpath\u001b[39m.\u001b[39;49mjoin(destination_dir,file_name))\n",
      "File \u001b[0;32m~/miniconda3/lib/python3.10/urllib/request.py:270\u001b[0m, in \u001b[0;36murlretrieve\u001b[0;34m(url, filename, reporthook, data)\u001b[0m\n\u001b[1;32m    267\u001b[0m     reporthook(blocknum, bs, size)\n\u001b[1;32m    269\u001b[0m \u001b[39mwhile\u001b[39;00m \u001b[39mTrue\u001b[39;00m:\n\u001b[0;32m--> 270\u001b[0m     block \u001b[39m=\u001b[39m fp\u001b[39m.\u001b[39;49mread(bs)\n\u001b[1;32m    271\u001b[0m     \u001b[39mif\u001b[39;00m \u001b[39mnot\u001b[39;00m block:\n\u001b[1;32m    272\u001b[0m         \u001b[39mbreak\u001b[39;00m\n",
      "File \u001b[0;32m~/miniconda3/lib/python3.10/http/client.py:465\u001b[0m, in \u001b[0;36mHTTPResponse.read\u001b[0;34m(self, amt)\u001b[0m\n\u001b[1;32m    462\u001b[0m \u001b[39mif\u001b[39;00m \u001b[39mself\u001b[39m\u001b[39m.\u001b[39mlength \u001b[39mis\u001b[39;00m \u001b[39mnot\u001b[39;00m \u001b[39mNone\u001b[39;00m \u001b[39mand\u001b[39;00m amt \u001b[39m>\u001b[39m \u001b[39mself\u001b[39m\u001b[39m.\u001b[39mlength:\n\u001b[1;32m    463\u001b[0m     \u001b[39m# clip the read to the \"end of response\"\u001b[39;00m\n\u001b[1;32m    464\u001b[0m     amt \u001b[39m=\u001b[39m \u001b[39mself\u001b[39m\u001b[39m.\u001b[39mlength\n\u001b[0;32m--> 465\u001b[0m s \u001b[39m=\u001b[39m \u001b[39mself\u001b[39;49m\u001b[39m.\u001b[39;49mfp\u001b[39m.\u001b[39;49mread(amt)\n\u001b[1;32m    466\u001b[0m \u001b[39mif\u001b[39;00m \u001b[39mnot\u001b[39;00m s \u001b[39mand\u001b[39;00m amt:\n\u001b[1;32m    467\u001b[0m     \u001b[39m# Ideally, we would raise IncompleteRead if the content-length\u001b[39;00m\n\u001b[1;32m    468\u001b[0m     \u001b[39m# wasn't satisfied, but it might break compatibility.\u001b[39;00m\n\u001b[1;32m    469\u001b[0m     \u001b[39mself\u001b[39m\u001b[39m.\u001b[39m_close_conn()\n",
      "File \u001b[0;32m~/miniconda3/lib/python3.10/socket.py:705\u001b[0m, in \u001b[0;36mSocketIO.readinto\u001b[0;34m(self, b)\u001b[0m\n\u001b[1;32m    703\u001b[0m \u001b[39mwhile\u001b[39;00m \u001b[39mTrue\u001b[39;00m:\n\u001b[1;32m    704\u001b[0m     \u001b[39mtry\u001b[39;00m:\n\u001b[0;32m--> 705\u001b[0m         \u001b[39mreturn\u001b[39;00m \u001b[39mself\u001b[39;49m\u001b[39m.\u001b[39;49m_sock\u001b[39m.\u001b[39;49mrecv_into(b)\n\u001b[1;32m    706\u001b[0m     \u001b[39mexcept\u001b[39;00m timeout:\n\u001b[1;32m    707\u001b[0m         \u001b[39mself\u001b[39m\u001b[39m.\u001b[39m_timeout_occurred \u001b[39m=\u001b[39m \u001b[39mTrue\u001b[39;00m\n",
      "File \u001b[0;32m~/miniconda3/lib/python3.10/ssl.py:1274\u001b[0m, in \u001b[0;36mSSLSocket.recv_into\u001b[0;34m(self, buffer, nbytes, flags)\u001b[0m\n\u001b[1;32m   1270\u001b[0m     \u001b[39mif\u001b[39;00m flags \u001b[39m!=\u001b[39m \u001b[39m0\u001b[39m:\n\u001b[1;32m   1271\u001b[0m         \u001b[39mraise\u001b[39;00m \u001b[39mValueError\u001b[39;00m(\n\u001b[1;32m   1272\u001b[0m           \u001b[39m\"\u001b[39m\u001b[39mnon-zero flags not allowed in calls to recv_into() on \u001b[39m\u001b[39m%s\u001b[39;00m\u001b[39m\"\u001b[39m \u001b[39m%\u001b[39m\n\u001b[1;32m   1273\u001b[0m           \u001b[39mself\u001b[39m\u001b[39m.\u001b[39m\u001b[39m__class__\u001b[39m)\n\u001b[0;32m-> 1274\u001b[0m     \u001b[39mreturn\u001b[39;00m \u001b[39mself\u001b[39;49m\u001b[39m.\u001b[39;49mread(nbytes, buffer)\n\u001b[1;32m   1275\u001b[0m \u001b[39melse\u001b[39;00m:\n\u001b[1;32m   1276\u001b[0m     \u001b[39mreturn\u001b[39;00m \u001b[39msuper\u001b[39m()\u001b[39m.\u001b[39mrecv_into(buffer, nbytes, flags)\n",
      "File \u001b[0;32m~/miniconda3/lib/python3.10/ssl.py:1130\u001b[0m, in \u001b[0;36mSSLSocket.read\u001b[0;34m(self, len, buffer)\u001b[0m\n\u001b[1;32m   1128\u001b[0m \u001b[39mtry\u001b[39;00m:\n\u001b[1;32m   1129\u001b[0m     \u001b[39mif\u001b[39;00m buffer \u001b[39mis\u001b[39;00m \u001b[39mnot\u001b[39;00m \u001b[39mNone\u001b[39;00m:\n\u001b[0;32m-> 1130\u001b[0m         \u001b[39mreturn\u001b[39;00m \u001b[39mself\u001b[39;49m\u001b[39m.\u001b[39;49m_sslobj\u001b[39m.\u001b[39;49mread(\u001b[39mlen\u001b[39;49m, buffer)\n\u001b[1;32m   1131\u001b[0m     \u001b[39melse\u001b[39;00m:\n\u001b[1;32m   1132\u001b[0m         \u001b[39mreturn\u001b[39;00m \u001b[39mself\u001b[39m\u001b[39m.\u001b[39m_sslobj\u001b[39m.\u001b[39mread(\u001b[39mlen\u001b[39m)\n",
      "\u001b[0;31mKeyboardInterrupt\u001b[0m: "
     ]
    }
   ],
   "source": [
    "to_download = [file for file in files if ('0000_0001' in file)*('201801' in file)]\n",
    "for file_name in to_download:\n",
    "    print(file_name)\n",
    "    urllib.request.urlretrieve(source_url+file_name, os.path.join(destination_dir,file_name))"
   ]
  }
 ],
 "metadata": {
  "kernelspec": {
   "display_name": "base",
   "language": "python",
   "name": "python3"
  },
  "language_info": {
   "codemirror_mode": {
    "name": "ipython",
    "version": 3
   },
   "file_extension": ".py",
   "mimetype": "text/x-python",
   "name": "python",
   "nbconvert_exporter": "python",
   "pygments_lexer": "ipython3",
   "version": "3.10.9"
  },
  "orig_nbformat": 4,
  "vscode": {
   "interpreter": {
    "hash": "2db143bca35ab2b2374fe546045e082755e9089bbcd122bb907e768d7ee28403"
   }
  }
 },
 "nbformat": 4,
 "nbformat_minor": 2
}
