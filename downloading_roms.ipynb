{
 "cells": [
  {
   "cell_type": "code",
   "execution_count": 14,
   "metadata": {},
   "outputs": [],
   "source": [
    "import os\n",
    "import threddsclient\n",
    "import urllib.request"
   ]
  },
  {
   "cell_type": "code",
   "execution_count": 15,
   "metadata": {},
   "outputs": [],
   "source": [
    "querry_url = 'https://tds.marine.rutgers.edu/thredds/catalog/roms/doppio/2017_da/his/files/catalog.html'\n",
    "source_url = 'https://tds.marine.rutgers.edu/thredds/fileServer/roms/doppio/2017_da/his/files/'\n",
    "\n",
    "# source_url = 'https://tds.marine.rutgers.edu/thredds/catalog/roms/doppio/2017_da/his/catalog.html'\n",
    "destination_dir = r'C:\\Users\\laurins\\Documents\\data\\input\\rom'\n",
    "\n",
    "files = []\n",
    "for ds in threddsclient.crawl(source_url, depth=1):\n",
    "    files.append(ds.name)\n",
    "\n",
    "# traverse_thredds(source_url, destination_dir, 1, True, True)"
   ]
  },
  {
   "cell_type": "code",
   "execution_count": 16,
   "metadata": {},
   "outputs": [
    {
     "data": {
      "text/plain": [
       "['doppio_his_20180101_0000_0001.nc',\n",
       " 'doppio_his_20180102_0000_0001.nc',\n",
       " 'doppio_his_20180103_0000_0001.nc',\n",
       " 'doppio_his_20180104_0000_0001.nc',\n",
       " 'doppio_his_20180105_0000_0001.nc',\n",
       " 'doppio_his_20180106_0000_0001.nc',\n",
       " 'doppio_his_20180107_0000_0001.nc',\n",
       " 'doppio_his_20180108_0000_0001.nc',\n",
       " 'doppio_his_20180109_0000_0001.nc',\n",
       " 'doppio_his_20180110_0000_0001.nc',\n",
       " 'doppio_his_20180111_0000_0001.nc',\n",
       " 'doppio_his_20180112_0000_0001.nc',\n",
       " 'doppio_his_20180113_0000_0001.nc',\n",
       " 'doppio_his_20180114_0000_0001.nc',\n",
       " 'doppio_his_20180115_0000_0001.nc',\n",
       " 'doppio_his_20180116_0000_0001.nc',\n",
       " 'doppio_his_20180117_0000_0001.nc',\n",
       " 'doppio_his_20180118_0000_0001.nc',\n",
       " 'doppio_his_20180119_0000_0001.nc',\n",
       " 'doppio_his_20180120_0000_0001.nc',\n",
       " 'doppio_his_20180121_0000_0001.nc',\n",
       " 'doppio_his_20180122_0000_0001.nc',\n",
       " 'doppio_his_20180123_0000_0001.nc',\n",
       " 'doppio_his_20180124_0000_0001.nc',\n",
       " 'doppio_his_20180125_0000_0001.nc',\n",
       " 'doppio_his_20180126_0000_0001.nc',\n",
       " 'doppio_his_20180127_0000_0001.nc',\n",
       " 'doppio_his_20180128_0000_0001.nc',\n",
       " 'doppio_his_20180129_0000_0001.nc',\n",
       " 'doppio_his_20180130_0000_0001.nc',\n",
       " 'doppio_his_20180131_0000_0001.nc']"
      ]
     },
     "execution_count": 16,
     "metadata": {},
     "output_type": "execute_result"
    }
   ],
   "source": [
    "to_download = [file for file in files if ('0000_0001' in file)*('201801' in file)]\n",
    "to_download"
   ]
  },
  {
   "cell_type": "code",
   "execution_count": 21,
   "metadata": {},
   "outputs": [],
   "source": [
    "to_download = [file for file in files if ('0000_0001' in file)*('201801' in file)]\n",
    "destination_dir = r'C:\\Users\\laurins\\Documents\\data\\input\\rom2'\n",
    "for file_name in to_download:\n",
    "    urllib.request.urlretrieve(source_url+file_name, os.path.join(destination_dir,file_name))\n",
    "\n",
    "\n"
   ]
  }
 ],
 "metadata": {
  "kernelspec": {
   "display_name": "base",
   "language": "python",
   "name": "python3"
  },
  "language_info": {
   "codemirror_mode": {
    "name": "ipython",
    "version": 3
   },
   "file_extension": ".py",
   "mimetype": "text/x-python",
   "name": "python",
   "nbconvert_exporter": "python",
   "pygments_lexer": "ipython3",
   "version": "3.10.9"
  },
  "orig_nbformat": 4,
  "vscode": {
   "interpreter": {
    "hash": "ae321efca05d5287feb4e18c73c84aa717d56d176335c74bbc73c515f0d20084"
   }
  }
 },
 "nbformat": 4,
 "nbformat_minor": 2
}
