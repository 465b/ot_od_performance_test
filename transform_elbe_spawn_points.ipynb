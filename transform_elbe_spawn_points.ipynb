{
 "cells": [
  {
   "cell_type": "markdown",
   "metadata": {},
   "source": [
    "# transform from utm32N to wg84"
   ]
  },
  {
   "cell_type": "code",
   "execution_count": 3,
   "metadata": {},
   "outputs": [],
   "source": [
    "import numpy as np\n",
    "import pyproj as proj"
   ]
  },
  {
   "cell_type": "code",
   "execution_count": 5,
   "metadata": {},
   "outputs": [],
   "source": [
    "\n",
    "# in UTM32N\n",
    "release_points_xy = np.array([\n",
    "        [502096, 5968781],\n",
    "        [485000, 5982000],\n",
    "        [470376, 5980287],\n",
    "        [536935, 5940317],\n",
    "        [560849, 5932934],\n",
    "        [560849, 5932934],\n",
    "        [448288, 5983779],\n",
    "        #\n",
    "        [502096, 5968782],\n",
    "        [485000, 5982001],\n",
    "        [470376, 5980288],\n",
    "        [536935, 5940318],\n",
    "        [560849, 5932935],\n",
    "        [560849, 5932935],\n",
    "        [448288, 5983780],\n",
    "        #\n",
    "        [502097, 5968781],\n",
    "        [485001, 5982000],\n",
    "        [470377, 5980287],\n",
    "        [536936, 5940317],\n",
    "        [560850, 5932934],\n",
    "        [560850, 5932934],\n",
    "        [448289, 5983779],\n",
    "        #\n",
    "        [502096, 5968781],\n",
    "        [485000, 5982000],\n",
    "        [470376, 5980287],\n",
    "        [536935, 5940317],\n",
    "        [560849, 5932934],\n",
    "        [560849, 5932934],\n",
    "        [448288, 5983779],\n",
    "        #\n",
    "        [502096, 5968780],\n",
    "        [485000, 5981999],\n",
    "        ])"
   ]
  },
  {
   "cell_type": "code",
   "execution_count": 7,
   "metadata": {},
   "outputs": [],
   "source": [
    "# transform to lat lon in WGS84\n",
    "p1 = proj.CRS.from_string('EPSG:25832')\n",
    "p2 = proj.CRS.from_string('EPSG:4326')\n",
    "transformer = proj.Transformer.from_crs(p1, p2, always_xy=True)\n",
    "release_points_lonlat = np.array([transformer.transform(x, y) for x, y in release_points_xy])\n"
   ]
  },
  {
   "cell_type": "code",
   "execution_count": 8,
   "metadata": {},
   "outputs": [
    {
     "data": {
      "text/plain": [
       "array([[ 9.03187469, 53.86750645],\n",
       "       [ 8.77124144, 53.98610571],\n",
       "       [ 8.54838939, 53.97007844],\n",
       "       [ 9.55826941, 53.61036541],\n",
       "       [ 9.91824748, 53.54177976],\n",
       "       [ 9.91824748, 53.54177976],\n",
       "       [ 8.21109806, 53.99972419],\n",
       "       [ 9.03187469, 53.86751544],\n",
       "       [ 8.77124139, 53.9861147 ],\n",
       "       [ 8.54838929, 53.97008742],\n",
       "       [ 9.55826953, 53.6103744 ],\n",
       "       [ 9.91824767, 53.54178875],\n",
       "       [ 9.91824767, 53.54178875],\n",
       "       [ 8.21109789, 53.99973318],\n",
       "       [ 9.03188989, 53.86750644],\n",
       "       [ 8.77125669, 53.98610574],\n",
       "       [ 8.54840463, 53.97007849],\n",
       "       [ 9.55828453, 53.61036534],\n",
       "       [ 9.91826257, 53.54177965],\n",
       "       [ 9.91826257, 53.54177965],\n",
       "       [ 8.21111332, 53.99972429],\n",
       "       [ 9.03187469, 53.86750645],\n",
       "       [ 8.77124144, 53.98610571],\n",
       "       [ 8.54838939, 53.97007844],\n",
       "       [ 9.55826941, 53.61036541],\n",
       "       [ 9.91824748, 53.54177976],\n",
       "       [ 9.91824748, 53.54177976],\n",
       "       [ 8.21109806, 53.99972419],\n",
       "       [ 9.03187468, 53.86749746],\n",
       "       [ 8.77124149, 53.98609673]])"
      ]
     },
     "execution_count": 8,
     "metadata": {},
     "output_type": "execute_result"
    }
   ],
   "source": [
    "release_points_lonlat"
   ]
  }
 ],
 "metadata": {
  "kernelspec": {
   "display_name": "Python 3",
   "language": "python",
   "name": "python3"
  },
  "language_info": {
   "codemirror_mode": {
    "name": "ipython",
    "version": 3
   },
   "file_extension": ".py",
   "mimetype": "text/x-python",
   "name": "python",
   "nbconvert_exporter": "python",
   "pygments_lexer": "ipython3",
   "version": "3.10.13"
  }
 },
 "nbformat": 4,
 "nbformat_minor": 2
}
